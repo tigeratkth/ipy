{
  "nbformat": 4,
  "nbformat_minor": 0,
  "metadata": {
    "colab": {
      "provenance": [],
      "collapsed_sections": [
        "GRPRbneNM2PE"
      ],
      "authorship_tag": "ABX9TyPcEZsJpYP5J347w4ne8ykL",
      "include_colab_link": true
    },
    "kernelspec": {
      "name": "python3",
      "display_name": "Python 3"
    },
    "language_info": {
      "name": "python"
    }
  },
  "cells": [
    {
      "cell_type": "markdown",
      "metadata": {
        "id": "view-in-github",
        "colab_type": "text"
      },
      "source": [
        "<a href=\"https://colab.research.google.com/github/tigeratkth/ipy/blob/main/Hello_world_to_Python.ipynb\" target=\"_parent\"><img src=\"https://colab.research.google.com/assets/colab-badge.svg\" alt=\"Open In Colab\"/></a>"
      ]
    },
    {
      "cell_type": "markdown",
      "source": [
        "### Hello world!"
      ],
      "metadata": {
        "id": "6tGHrJD_La7c"
      }
    },
    {
      "cell_type": "code",
      "execution_count": 1,
      "metadata": {
        "colab": {
          "base_uri": "https://localhost:8080/"
        },
        "id": "8RLJpJ08IADO",
        "outputId": "27ed906c-c689-4cd4-b284-bb245f72006b"
      },
      "outputs": [
        {
          "output_type": "stream",
          "name": "stdout",
          "text": [
            "hello world\n"
          ]
        }
      ],
      "source": [
        "print('hello world')"
      ]
    },
    {
      "cell_type": "markdown",
      "source": [
        "## 缩进和格式\n",
        "缩进是python最大的特点，基于此有其他的基本格式要求"
      ],
      "metadata": {
        "id": "GRPRbneNM2PE"
      }
    },
    {
      "cell_type": "markdown",
      "source": [
        "### 缩进\n",
        "学习 Python 与其他语言最大的区别就是，Python 的代码块不使用大括号 {} 来控制类，函数以及其他逻辑判断。python 最具特色的就是用缩进来写模块。\n",
        "\n",
        "缩进的空白数量是可变的，但是所有代码块语句必须包含相同的缩进空白数量，这个必须严格执行。"
      ],
      "metadata": {
        "id": "POeO7KfDJS_v"
      }
    },
    {
      "cell_type": "code",
      "source": [
        "# 表示注释，即不会被当作代码来执行\n",
        "# 缩进要保持相同，推荐使用TAB键缩进\n",
        "if True:\n",
        "    print (\"True\")\n",
        "else:\n",
        "    print (\"False\")"
      ],
      "metadata": {
        "colab": {
          "base_uri": "https://localhost:8080/"
        },
        "id": "Q9GnEdReJX4j",
        "outputId": "72020c76-8385-4595-ccf5-c00130fcece3"
      },
      "execution_count": 2,
      "outputs": [
        {
          "output_type": "stream",
          "name": "stdout",
          "text": [
            "True\n"
          ]
        }
      ]
    },
    {
      "cell_type": "code",
      "source": [
        "if True:\n",
        "      print (\"True\")\n",
        "else:\n",
        "    print (\"False\")\n",
        "\n",
        "# 问题出在哪里呢？\n",
        "# 90%的问题是缩进和中英文字符"
      ],
      "metadata": {
        "id": "4riboL5IKIEm"
      },
      "execution_count": null,
      "outputs": []
    },
    {
      "cell_type": "markdown",
      "source": [
        "### Python 引号\n",
        "Python 可以使用引号( ' )、双引号( \" )、三引号( ''' 或 \"\"\" ) 来表示字符串，引号的开始与结束必须是相同类型的。\n",
        "\n",
        "其中三引号可以由多行组成，编写多行文本的快捷语法，常用于文档字符串，在文件的特定地点，被当做注释。"
      ],
      "metadata": {
        "id": "x2FbDwxIK1I5"
      }
    },
    {
      "cell_type": "code",
      "source": [
        "word = 'word'\n",
        "sentence = \"这是一个句子。\"\n",
        "paragraph = \"\"\"这是一个段落。\n",
        "包含了多个语句\"\"\"\n",
        "\n",
        "#但是三引号也表示注释\n",
        "\n",
        "'''\n",
        "这是一段注释!\n",
        "这是一段注释!\n",
        "这是一段注释!\n",
        "这是一段注释!\n",
        "'''"
      ],
      "metadata": {
        "id": "HziPntJwK45s"
      },
      "execution_count": null,
      "outputs": []
    },
    {
      "cell_type": "markdown",
      "source": [
        "###多个语句构成代码组\n",
        "缩进相同的一组语句构成一个代码块，我们称之代码组。\n",
        "\n",
        "像if、while、def和class这样的复合语句，首行以关键字开始，以冒号( : )结束，该行之后的一行或多行代码构成代码组。\n",
        "\n",
        "我们将首行及后面的代码组称为一个子句(clause)。\n",
        "\n",
        "如下实例："
      ],
      "metadata": {
        "id": "dQ_oS-PhLVC5"
      }
    },
    {
      "cell_type": "code",
      "source": [
        "if expression :\n",
        "   suite\n",
        "elif expression :\n",
        "   suite\n",
        "else :\n",
        "   suite"
      ],
      "metadata": {
        "id": "glqUTwdTLUyI"
      },
      "execution_count": null,
      "outputs": []
    },
    {
      "cell_type": "markdown",
      "source": [
        "## 变量\n",
        "变量是存储在内存中的值，这就意味着在创建变量时会在内存中开辟一个空间。\n",
        "\n",
        "基于变量的数据类型，解释器会分配指定内存，并决定什么数据可以被存储在内存中。\n",
        "\n",
        "因此，变量可以指定不同的数据类型，这些变量可以存储整数，小数或字符。"
      ],
      "metadata": {
        "id": "i-uP4m_aMmmh"
      }
    },
    {
      "cell_type": "markdown",
      "source": [
        "### 变量赋值\n",
        "Python 中的变量赋值不需要类型声明。\n",
        "\n",
        "每个变量在内存中创建，都包括变量的标识，名称和数据这些信息。\n",
        "\n",
        "每个变量在使用前都必须赋值，变量赋值以后该变量才会被创建。\n",
        "\n",
        "等号 = 用来给变量赋值。\n",
        "\n",
        "等号 = 运算符左边是一个变量名，等号 = 运算符右边是存储在变量中的值。例如："
      ],
      "metadata": {
        "id": "Z6bLZvNSMzij"
      }
    },
    {
      "cell_type": "code",
      "source": [
        "counter = 100 # 赋值整型变量\n",
        "miles = 1000.0 # 浮点型\n",
        "name = \"John\" # 字符串\n",
        "\n",
        "print(counter)\n",
        "print(miles)\n",
        "print(name)"
      ],
      "metadata": {
        "colab": {
          "base_uri": "https://localhost:8080/"
        },
        "id": "vaFwd9NsNZFZ",
        "outputId": "864c2e34-0910-4ae4-e3ea-433892ea8552"
      },
      "execution_count": 5,
      "outputs": [
        {
          "output_type": "stream",
          "name": "stdout",
          "text": [
            "100\n",
            "1000.0\n",
            "John\n"
          ]
        }
      ]
    },
    {
      "cell_type": "code",
      "source": [
        "#查看类型可以用 type（），例如：\n",
        "\n",
        "print(type(counter))\n",
        "print(type(miles))\n",
        "print(type(name))"
      ],
      "metadata": {
        "colab": {
          "base_uri": "https://localhost:8080/"
        },
        "id": "-RTxBd6WNcFB",
        "outputId": "247387ce-8d2e-4fc7-9963-f83c0f495735"
      },
      "execution_count": 8,
      "outputs": [
        {
          "output_type": "stream",
          "name": "stdout",
          "text": [
            "<class 'int'>\n",
            "<class 'float'>\n",
            "<class 'str'>\n"
          ]
        }
      ]
    },
    {
      "cell_type": "markdown",
      "source": [
        "### 标准数据类型\n",
        "在内存中存储的数据可以有多种类型。\n",
        "\n",
        "例如，一个人的年龄可以用数字来存储，他的名字可以用字符来存储。\n",
        "\n",
        "Python 定义了一些标准类型，用于存储各种类型的数据。\n",
        "\n",
        "Python有五个标准的数据类型：\n",
        "\n",
        "Numbers（数字）\n",
        "String（字符串）\n",
        "List（列表）\n",
        "Tuple（元组）\n",
        "Dictionary（字典）"
      ],
      "metadata": {
        "id": "2-lbFU25Oo6Z"
      }
    },
    {
      "cell_type": "markdown",
      "source": [
        "###数值有：\n",
        "\n",
        "\n",
        "int（有符号整型）\n",
        "\n",
        "long（长整型，也可以代表八进制和十六进制）（不存在与py3.X）\n",
        "\n",
        "\n",
        "float（浮点型）\n",
        "\n",
        "\n",
        "complex（复数）"
      ],
      "metadata": {
        "id": "YWW5v4YQPa5a"
      }
    },
    {
      "cell_type": "markdown",
      "source": [
        "### 字符串操作"
      ],
      "metadata": {
        "id": "7OEN8a-dP2_c"
      }
    },
    {
      "cell_type": "code",
      "source": [
        "str = 'Hello World!'\n",
        "\n",
        "print (str)          # 输出完整字符串\n",
        "print (str[0])        # 输出字符串中的第一个字符\n",
        "print (str[2:5])      # 输出字符串中第三个至第六个之间的字符串\n",
        "print (str[2:])       # 输出从第三个字符开始的字符串\n",
        "print (str * 2)       # 输出字符串两次\n",
        "print (str + \"TEST\")  # 输出连接的字符串"
      ],
      "metadata": {
        "id": "d13Mm1KFP7Sn"
      },
      "execution_count": null,
      "outputs": []
    },
    {
      "cell_type": "markdown",
      "source": [
        "### 列表操作"
      ],
      "metadata": {
        "id": "-CGdoMrReulQ"
      }
    },
    {
      "cell_type": "code",
      "source": [
        "#创建\n",
        "list1 = ['physics', 'chemistry', 1997, 2000]\n",
        "list2 = [1, 2, 3, 4, 5 ]\n",
        "list3 = [\"a\", \"b\", \"c\", \"d\"]"
      ],
      "metadata": {
        "id": "l-_uAc6ie7YS"
      },
      "execution_count": null,
      "outputs": []
    },
    {
      "cell_type": "code",
      "source": [
        "#访问\n",
        "list1 = ['physics', 'chemistry', 1997, 2000]\n",
        "list2 = [1, 2, 3, 4, 5, 6, 7 ]\n",
        "\n",
        "print (\"list1[0]: \", list1[0])\n",
        "print (\"list2[1:5]: \", list2[1:5])"
      ],
      "metadata": {
        "colab": {
          "base_uri": "https://localhost:8080/"
        },
        "id": "js-DTFkhe9ry",
        "outputId": "42cffb1c-f549-41f9-de2b-d668758c7147"
      },
      "execution_count": 3,
      "outputs": [
        {
          "output_type": "stream",
          "name": "stdout",
          "text": [
            "list1[0]:  physics\n",
            "list2[1:5]:  [2, 3, 4, 5]\n"
          ]
        }
      ]
    },
    {
      "cell_type": "code",
      "source": [
        "#更新\n",
        "list = []          ## 空列表\n",
        "list.append('Google')   ## 使用 append() 添加元素\n",
        "list.append('Runoob')\n",
        "print (list)"
      ],
      "metadata": {
        "id": "26cpjk5_fBFe"
      },
      "execution_count": null,
      "outputs": []
    },
    {
      "cell_type": "code",
      "source": [
        "#删除\n",
        "list1 = ['physics', 'chemistry', 1997, 2000]\n",
        "\n",
        "print (list1)\n",
        "del list1[2]\n",
        "print (\"After deleting value at index 2 : \")\n",
        "print (list1)"
      ],
      "metadata": {
        "id": "knEL0dgTfIZ_"
      },
      "execution_count": null,
      "outputs": []
    },
    {
      "cell_type": "markdown",
      "source": [
        "### 字典\n",
        "字典类型在模型中最常使用，主要用于配置参数。\n",
        "\n",
        "字典是另一种可变容器模型，且可存储任意类型对象。\n",
        "\n",
        "字典的每个键值 key:value 对用冒号 : 分割，每个键值对之间用逗号 , 分割，整个字典包括在花括号 {} 中 ,格式如下所示：\n",
        "\n",
        "\n",
        "d = {key1 : value1, key2 : value2 }"
      ],
      "metadata": {
        "id": "hbJ48Hyi_lvf"
      }
    },
    {
      "cell_type": "code",
      "source": [
        "# 创建\n",
        "tinydict = {'Alice': '2341', 'Beth': '9102', 'Cecil': '3258'}\n",
        "\n",
        "tinydict1 = { 'abc': 456 }\n",
        "tinydict2 = { 'abc': 123, 98.6: 37 }"
      ],
      "metadata": {
        "id": "yAFhbCJT_5JN"
      },
      "execution_count": null,
      "outputs": []
    },
    {
      "cell_type": "code",
      "source": [
        "# 访问\n",
        "# 字典中的键是唯一的！\n",
        "tinydict = {'Name': 'Zara', 'Age': 7, 'Class': 'First'}\n",
        "\n",
        "print (\"tinydict['Name']: \", tinydict['Name'])\n",
        "print (\"tinydict['Age']: \", tinydict['Age'])\n",
        "\n",
        "tinydict = {'Name': 'Runoob', 'Age': 7, 'Class': 'First'}\n",
        "\n",
        "print (\"tinydict['Alice']: \", tinydict['Alice'])\n",
        "print (\"tinydict['Beth']: \", tinydict['Beth'])"
      ],
      "metadata": {
        "id": "Wdved3AJACES"
      },
      "execution_count": null,
      "outputs": []
    },
    {
      "cell_type": "code",
      "source": [
        "# 修改\n",
        "tinydict = {'Name': 'Zara', 'Age': 7, 'Class': 'First'}\n",
        "\n",
        "tinydict['Age'] = 8 # 更新\n",
        "tinydict['School'] = \"RUNOOB\" # 添加\n",
        "\n",
        "\n",
        "print (\"tinydict['Age']: \", tinydict['Age'])\n",
        "print (\"tinydict['School']: \", tinydict['School'])"
      ],
      "metadata": {
        "colab": {
          "base_uri": "https://localhost:8080/"
        },
        "id": "qmDHpSIqJ-gy",
        "outputId": "52012c0b-cb39-4db5-e0cc-69473d2d8b10"
      },
      "execution_count": 4,
      "outputs": [
        {
          "output_type": "stream",
          "name": "stdout",
          "text": [
            "tinydict['Age']:  8\n",
            "tinydict['School']:  RUNOOB\n"
          ]
        }
      ]
    },
    {
      "cell_type": "code",
      "source": [
        "'''\n",
        "字典值可以没有限制地取任何 python 对象，既可以是标准的对象，也可以是用户定义的，但键不行。\n",
        "\n",
        "两个重要的点需要记住：\n",
        "\n",
        "1）不允许同一个键出现两次。创建时如果同一个键被赋值两次，后一个值会被记住，如下实例：'''\n",
        "dict = {}\n",
        "dict['key'] = 'value'\n",
        "dict['key'] = 'value2'\n",
        "print (dict)"
      ],
      "metadata": {
        "id": "yD_jr0X1LRUQ"
      },
      "execution_count": null,
      "outputs": []
    },
    {
      "cell_type": "code",
      "source": [
        "'''键必须不可变，所以可以用数字，字符串或元组充当，所以用列表就不行，如下实例：'''\n",
        "dict = {}\n",
        "dict['key'] = 'value'\n",
        "dict[1] = 'value2'\n",
        "print (dict)\n",
        "\n",
        "#!/usr/bin/python\n",
        "\n",
        "tinydict = {['Name']: 'Zara', 'Age': 7}\n",
        "\n",
        "print (\"tinydict['Name']: \", tinydict['Name'])"
      ],
      "metadata": {
        "id": "gJjVBlyTLZMS"
      },
      "execution_count": null,
      "outputs": []
    },
    {
      "cell_type": "markdown",
      "source": [
        "## 函数\n",
        "函数是组织好的，可重复使用的，用来实现单一，或相关联功能的代码段。\n",
        "\n",
        "函数能提高应用的模块性，和代码的重复利用率。你已经知道Python提供了许多内建函数，比如print()。但你也可以自己创建函数，这被叫做用户自定义函数。"
      ],
      "metadata": {
        "id": "ZTjqm8tOM960"
      }
    },
    {
      "cell_type": "markdown",
      "source": [
        "###定义一个函数\n",
        "你可以定义一个由自己想要功能的函数，以下是简单的规则：\n",
        "\n",
        "函数代码块以 def 关键词开头，后接函数标识符名称和圆括号()。\n",
        "任何传入参数和自变量必须放在圆括号中间。圆括号之间可以用于定义参数。\n",
        "函数的第一行语句可以选择性地使用文档字符串—用于存放函数说明。\n",
        "函数内容以冒号起始，并且缩进。\n",
        "return [表达式] 结束函数，选择性地返回一个值给调用方。不带表达式的return相当于返回 None。"
      ],
      "metadata": {
        "id": "GPwkGqpQNVaW"
      }
    },
    {
      "cell_type": "code",
      "source": [
        "def printme( str ):\n",
        "   \"打印传入的字符串到标准显示设备上\"\n",
        "   print (str)\n",
        "   return"
      ],
      "metadata": {
        "id": "zzuBIKCvNUFa"
      },
      "execution_count": null,
      "outputs": []
    },
    {
      "cell_type": "code",
      "source": [
        "'''函数调用\n",
        "定义一个函数只给了函数一个名称，指定了函数里包含的参数，和代码块结构。\n",
        "\n",
        "这个函数的基本结构完成以后，你可以通过另一个函数调用执行，也可以直接从Python提示符执行。\n",
        "\n",
        "如下实例调用了printme（）函数：'''\n",
        "# 定义函数\n",
        "def printme( str ):\n",
        "   \"打印任何传入的字符串\"\n",
        "   print (str)\n",
        "   return\n",
        "\n",
        "# 调用函数\n",
        "printme(\"我要调用用户自定义函数!\")\n",
        "printme(\"再次调用同一函数\")"
      ],
      "metadata": {
        "id": "d5gIRFbmN5ri"
      },
      "execution_count": null,
      "outputs": []
    },
    {
      "cell_type": "markdown",
      "source": [
        "### 函数的参数\n",
        "上述例程的str是确定的参数\n",
        "\n",
        "不确定将来要往函数中传入多少个参数，即可使用可变参数（即不定长参数），用 *args,**kwargs表示"
      ],
      "metadata": {
        "id": "OV-sfK0gPOXi"
      }
    },
    {
      "cell_type": "markdown",
      "source": [
        "### 函数中的变量作用域\n",
        "一个程序的所有的变量并不是在哪个位置都可以访问的。访问权限决定于这个变量是在哪里赋值的。\n",
        "\n",
        "变量的作用域决定了在哪一部分程序你可以访问哪个特定的变量名称。两种最基本的变量作用域如下：\n",
        "\n",
        "\n",
        "全局变量\n",
        "\n",
        "\n",
        "局部变量\n",
        "\n",
        "定义在函数内部的变量拥有一个局部作用域，定义在函数外的拥有全局作用域。\n",
        "\n",
        "局部变量只能在其被声明的函数内部访问，而全局变量可以在整个程序范围内访问。调用函数时，所有在函数内声明的变量名称都将被加入到作用域中。如下实例："
      ],
      "metadata": {
        "id": "TPxd6xGSOPCM"
      }
    },
    {
      "cell_type": "code",
      "source": [
        "total = 0 # 这是一个全局变量\n",
        "# 可写函数说明\n",
        "def sum( arg1, arg2 ):\n",
        "   #返回2个参数的和.\"\n",
        "   total = arg1 + arg2 # total在这里是局部变量.\n",
        "   print (\"函数内是局部变量 : \", total)\n",
        "   return total\n",
        "\n",
        "#调用sum函数\n",
        "sum( 10, 20 )\n",
        "print (\"函数外是全局变量 : \", total)"
      ],
      "metadata": {
        "id": "dLW9g4FvOc4O"
      },
      "execution_count": null,
      "outputs": []
    },
    {
      "cell_type": "markdown",
      "source": [
        "## 依赖和安装依赖\n",
        "依赖是指程序所需要的库和功能模块。在colab中使用“! pip install XXX” 安装。\n",
        "Colab中已经有AI相关的依赖了，例如transformers，但版本需要自己确认。"
      ],
      "metadata": {
        "id": "600x-PJ_OwdX"
      }
    },
    {
      "cell_type": "code",
      "source": [
        "#使用pip安装\n",
        "!pip install numpy\n",
        "!pip install transformers\n",
        "\n",
        "#使用apt-get安装\n",
        "!apt-get install libgl1-mesa-glx"
      ],
      "metadata": {
        "id": "ReBxRUWkPlrf"
      },
      "execution_count": null,
      "outputs": []
    }
  ]
}